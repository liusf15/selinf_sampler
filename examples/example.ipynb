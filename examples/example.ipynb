{
 "cells": [
  {
   "cell_type": "code",
   "execution_count": 1,
   "metadata": {},
   "outputs": [],
   "source": [
    "import numpy as np\n",
    "from scipy.stats import norm\n",
    "\n",
    "from src.cython_core import sample_sov\n",
    "from src.utils import ci_bisection"
   ]
  },
  {
   "cell_type": "markdown",
   "metadata": {},
   "source": [
    "Suppose we observe $Z\\in \\mathbb{R}^d$ which follows the distribution\n",
    "$$\n",
    "\\begin{pmatrix} Z \\\\ \\omega \\end{pmatrix} \\sim N_{2d}\\left(\\begin{pmatrix} \\mu \\\\ 0_d \\end{pmatrix}, \\begin{pmatrix} \\Sigma & 0 \\\\ 0 & \\Omega\\end{pmatrix} \\right) |_{A(Z+\\omega)\\leq b }.\n",
    "$$\n",
    "We want to find a p-value for $H_0:\\eta^\\intercal \\mu=\\theta$.\n",
    "\n",
    "Denote $\\nu=\\eta^\\intercal \\Sigma \\eta$, $c=\\nu^{-1} \\Sigma \\eta$, $\\hat\\theta=\\eta^\\intercal Z$.\n",
    "Write $Z=c \\hat\\theta + (I - c\\eta^\\intercal)Z$. Conditional on $(I - c\\eta^\\intercal)Z=u$, we have under $H_0$\n",
    "$$\n",
    "\\begin{pmatrix} \\hat\\theta \\\\ \\omega \\end{pmatrix} \\sim N\\left(\\begin{pmatrix} \\theta \\\\ 0 \\end{pmatrix}, \\begin{pmatrix} \\nu & 0 \\\\ 0 & \\Omega\\end{pmatrix} \\right) |_{A(c \\hat\\theta + u +\\omega)\\leq b }.\n",
    "$$\n",
    "\n",
    "Define $Y=A(c \\hat\\theta + u + \\omega)$. We have\n",
    "$$\n",
    "\\begin{pmatrix} \\hat\\theta \\\\ Y \\end{pmatrix} \\sim N\\left(\\begin{pmatrix} \\theta \\\\ A(c\\theta+u) \\end{pmatrix}, \\begin{pmatrix} \\nu & (Ac\\nu)^\\intercal \\\\ Ac\\nu & A(\\nu cc^\\intercal + \\Omega)A^\\intercal \\end{pmatrix} \\right) |_{Y\\leq b }.\n",
    "$$\n",
    "The conditional distribution of $\\hat\\theta\\mid Y$ is $N( m(Y), \\tau^2)$, where\n",
    "$$\n",
    "m(Y)=\\theta + (Ac\\nu)^\\intercal (A(\\nu cc^\\intercal + \\Omega)A^\\intercal )^{-1}(Y - A(c\\theta+u) ),\\quad \\tau^2=\\nu - (Ac\\nu)^\\intercal (A(\\nu cc^\\intercal + \\Omega)A^\\intercal )^{-1} (Ac\\nu)\n",
    "$$\n",
    "\n",
    "The CDF of $\\hat\\theta$ is\n",
    "$$\n",
    "P(\\hat\\theta \\leq t) = \\frac{\\int_{Y\\leq b} \\Phi(\\frac{t-m}{\\tau}) \\varphi(Y; A(c\\theta+u), A(\\nu cc^\\intercal+\\Omega)A^\\intercal )   dY}{\\int_{Y\\leq b} \\varphi(Y; A(c\\theta+u), A(\\nu cc^\\intercal+\\Omega)A^\\intercal )   dY  }.\n",
    "$$\n",
    "\n",
    "The integrals in the numerator and denominator are evaluated by Monte Carlo.\n",
    "We apply the separation-of-variable (SOV) to sample $Y$ from the truncated normal distribution. The SOV method is essentially an importance sampling method. If we get $N$ samples $(Y_i,w_i)$ where $w_i$ is the associated importance weight, then the CDF $P(\\hat\\theta\\leq t)$ is estimated by\n",
    "$$\n",
    "\\hat F(t)= \\frac{\\sum_{i=1}^N w_i \\Phi(\\frac{t-m(Y_i)}{\\tau} ) }{\\sum_{i=1}^N w_i}.\n",
    "$$\n",
    "A two-sided p-value is obtained by $2 \\min(\\hat F(t), 1-\\hat F(t) )$.\n",
    "\n",
    "Confidence intervals can be obtained by inverting the test. We do this by a bi-section method."
   ]
  },
  {
   "cell_type": "code",
   "execution_count": 2,
   "metadata": {},
   "outputs": [],
   "source": [
    "# generate Z\n",
    "d = 5\n",
    "mu = np.zeros(d) - .5\n",
    "Sigma = np.eye(d) * .5 + .5\n",
    "Omega = .5 * np.eye(d)\n",
    "A = np.tril(.5 * np.ones((d, d)))\n",
    "b = np.zeros(d)\n",
    "\n",
    "def generate_data(rng):\n",
    "    while True:\n",
    "        z = rng.multivariate_normal(mu, Sigma)\n",
    "        omega = rng.multivariate_normal(np.zeros(d), Omega)\n",
    "        if np.all(A @ (z + omega) <= b):\n",
    "            return z, omega\n",
    "\n",
    "rng = np.random.default_rng(0)\n",
    "Z, _ = generate_data(rng)"
   ]
  },
  {
   "cell_type": "code",
   "execution_count": 3,
   "metadata": {},
   "outputs": [],
   "source": [
    "eta = np.eye(d)[0]\n",
    "nu = np.dot(eta, Sigma @ eta)\n",
    "c = Sigma @ eta\n",
    "theta_hat = eta.T @ Z\n",
    "u = Z - c * theta_hat\n",
    "\n",
    "cov_Y = A @ (nu * np.outer(c, c) + Omega) @ A.T\n",
    "theta_hat_conditional_sd = np.sqrt(nu - (A @ c * nu).T @ np.linalg.inv(cov_Y) @ (A @ c * nu))"
   ]
  },
  {
   "cell_type": "code",
   "execution_count": 4,
   "metadata": {},
   "outputs": [],
   "source": [
    "def sample_trunc_normal(m, Sigma, seed=1, nsample=512):\n",
    "    \"\"\"\"\n",
    "    sample from the truncated normal distribution X ~ N(m, Sigma) | X < 0\n",
    "    m: mean vector\n",
    "    Sigma: covariance matrix\n",
    "    seed: seed\n",
    "    nsample: number of Monte Carlo samples\n",
    "    \"\"\"\n",
    "    L = np.linalg.cholesky(Sigma)\n",
    "    lower_limit = -np.inf * np.ones_like(m)\n",
    "    upper_limit = -m\n",
    "    samples, weights = sample_sov(lower_limit, upper_limit, L, nsample, seed, spherical=0)\n",
    "    samples = samples + m\n",
    "    return samples, weights"
   ]
  },
  {
   "cell_type": "code",
   "execution_count": 5,
   "metadata": {},
   "outputs": [],
   "source": [
    "def get_pvalue(theta, two_sided=True):\n",
    "    \"\"\"\n",
    "    Compute the p-value under eta' mu = theta\n",
    "    \"\"\"\n",
    "    # sample Y from the truncated normal distribution\n",
    "    mean_Y = A @ (c * theta + u)\n",
    "    \n",
    "    # take 512 weighted samples by QMC (the sample size must be powers of 2)\n",
    "    Y_samples, weights = sample_trunc_normal(mean_Y, cov_Y, seed=1, nsample=512) \n",
    "\n",
    "    # compute the conditional mean and standard deviation of \\hat{theta} given Y\n",
    "    theta_hat_conditional_mean = theta + (A @ c * nu).T @ np.linalg.inv(cov_Y) @ (Y_samples - mean_Y).T\n",
    "\n",
    "    # compute the CDF of \\hat{\\theta} evaluated at the observed theta_hat; this is the importance sampling estimator\n",
    "    pval = np.mean(norm.cdf((theta_hat - theta_hat_conditional_mean) / theta_hat_conditional_sd) * weights) / np.mean(weights)\n",
    "\n",
    "    if two_sided:\n",
    "        pval = 2 * min(pval, 1 - pval)\n",
    "    \n",
    "    return pval\n"
   ]
  },
  {
   "cell_type": "code",
   "execution_count": 6,
   "metadata": {},
   "outputs": [
    {
     "name": "stdout",
     "output_type": "stream",
     "text": [
      "P-value for eta'mu = 0: 0.2082\n"
     ]
    }
   ],
   "source": [
    "pvalue = get_pvalue(0)\n",
    "print(\"P-value for eta'mu = 0:\", np.round(pvalue, 4))"
   ]
  },
  {
   "cell_type": "code",
   "execution_count": 7,
   "metadata": {},
   "outputs": [
    {
     "name": "stdout",
     "output_type": "stream",
     "text": [
      "Interval for eta'mu: [-1.05   6.188]\n"
     ]
    }
   ],
   "source": [
    "ci = ci_bisection(get_pvalue, theta_hat, theta_hat_conditional_sd, 0.05)\n",
    "print(\"Interval for eta'mu:\", np.round(ci, 4))"
   ]
  },
  {
   "cell_type": "code",
   "execution_count": 8,
   "metadata": {},
   "outputs": [
    {
     "name": "stdout",
     "output_type": "stream",
     "text": [
      "True value of eta'mu: -0.5\n"
     ]
    }
   ],
   "source": [
    "print(\"True value of eta'mu:\", eta.dot(mu))"
   ]
  },
  {
   "cell_type": "code",
   "execution_count": 9,
   "metadata": {},
   "outputs": [
    {
     "name": "stderr",
     "output_type": "stream",
     "text": [
      "100%|██████████| 100/100 [00:33<00:00,  3.02it/s]\n"
     ]
    }
   ],
   "source": [
    "# simulation\n",
    "from tqdm import trange\n",
    "\n",
    "d = 5\n",
    "mu = np.zeros(d) - .5\n",
    "Sigma = np.eye(d) * .5 + .5\n",
    "Omega = .5 * np.eye(d)\n",
    "A = np.tril(.5 * np.ones((d, d)))\n",
    "b = np.zeros(d)\n",
    "eta = np.eye(d)[0]\n",
    "true_theta = eta.dot(mu)\n",
    "nu = np.dot(eta, Sigma @ eta)\n",
    "c = Sigma @ eta\n",
    "cov_Y = A @ (nu * np.outer(c, c) + Omega) @ A.T\n",
    "theta_hat_conditional_sd = np.sqrt(nu - (A @ c * nu).T @ np.linalg.inv(cov_Y) @ (A @ c * nu))\n",
    "sample_splitting_sd = np.sqrt(nu + np.dot(Sigma @ eta, np.linalg.inv(Omega) @ Sigma @ eta))\n",
    "\n",
    "def generate_data(rng):\n",
    "    while True:\n",
    "        z = rng.multivariate_normal(mu, Sigma)\n",
    "        omega = rng.multivariate_normal(np.zeros(d), Omega)\n",
    "        if np.all(A @ (z + omega) <= b):\n",
    "            return z, omega\n",
    "            \n",
    "def simu(rng):\n",
    "    Z, omega = generate_data(rng)\n",
    "    theta_hat = eta.T @ Z\n",
    "    u = Z - c * theta_hat\n",
    "    pval_conditional = get_pvalue(theta_hat)\n",
    "    ci_conditional = ci_bisection(get_pvalue, theta_hat, theta_hat_conditional_sd, 0.05)\n",
    "    covered_conditional = ci[0] <= true_theta <= ci[1]\n",
    "\n",
    "    # \"sample splitting\"\n",
    "    Z_indep = Z - Sigma @ np.linalg.inv(Omega) @ omega\n",
    "    pval_splitting = norm.cdf(eta.dot(Z_indep), loc=true_theta, scale=sample_splitting_sd)\n",
    "    ci_splitting = eta.dot(Z_indep) + np.array([-1, 1]) * norm.ppf(0.975) * sample_splitting_sd\n",
    "    covered_splitting = ci_splitting[0] <= true_theta <= ci_splitting[1]\n",
    "    return pval_conditional, ci_conditional, covered_conditional, pval_splitting, ci_splitting, covered_splitting\n",
    "\n",
    "pvals = {'conditional': [], 'splitting': []}\n",
    "lens = {'conditional': [], 'splitting': []}\n",
    "covered = {'conditional': [], 'splitting': []}\n",
    "for _ in trange(100):\n",
    "    pval_conditional, ci_conditional, covered_conditional, pval_splitting, ci_splitting, covered_splitting = simu(rng)\n",
    "    \n",
    "    pvals['conditional'].append(pval_conditional)\n",
    "    pvals['splitting'].append(pval_splitting)\n",
    "    lens['conditional'].append(ci_conditional[1] - ci_conditional[0])\n",
    "    lens['splitting'].append(ci_splitting[1] - ci_splitting[0])\n",
    "    covered['conditional'].append(covered_conditional)\n",
    "    covered['splitting'].append(covered_splitting)"
   ]
  },
  {
   "cell_type": "code",
   "execution_count": 10,
   "metadata": {},
   "outputs": [
    {
     "name": "stdout",
     "output_type": "stream",
     "text": [
      "Coverage proportions:\n"
     ]
    },
    {
     "data": {
      "text/plain": [
       "conditional    1.00\n",
       "splitting      0.97\n",
       "dtype: float64"
      ]
     },
     "execution_count": 10,
     "metadata": {},
     "output_type": "execute_result"
    }
   ],
   "source": [
    "import pandas as pd\n",
    "\n",
    "print('Coverage proportions:')\n",
    "pd.DataFrame(covered).mean()"
   ]
  },
  {
   "cell_type": "code",
   "execution_count": 11,
   "metadata": {},
   "outputs": [
    {
     "name": "stdout",
     "output_type": "stream",
     "text": [
      "Average interval lengths:\n"
     ]
    },
    {
     "data": {
      "text/plain": [
       "conditional    6.804584\n",
       "splitting      8.765225\n",
       "dtype: float64"
      ]
     },
     "execution_count": 11,
     "metadata": {},
     "output_type": "execute_result"
    }
   ],
   "source": [
    "print('Average interval lengths:')\n",
    "pd.DataFrame(lens).mean()"
   ]
  },
  {
   "cell_type": "code",
   "execution_count": null,
   "metadata": {},
   "outputs": [],
   "source": []
  }
 ],
 "metadata": {
  "kernelspec": {
   "display_name": "posi310",
   "language": "python",
   "name": "python3"
  },
  "language_info": {
   "codemirror_mode": {
    "name": "ipython",
    "version": 3
   },
   "file_extension": ".py",
   "mimetype": "text/x-python",
   "name": "python",
   "nbconvert_exporter": "python",
   "pygments_lexer": "ipython3",
   "version": "3.10.4"
  }
 },
 "nbformat": 4,
 "nbformat_minor": 2
}
