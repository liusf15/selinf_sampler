{
 "cells": [
  {
   "cell_type": "code",
   "execution_count": 1,
   "metadata": {},
   "outputs": [],
   "source": [
    "from examples.instances import gaussian_instance\n",
    "from src.carving_class import linear_carving"
   ]
  },
  {
   "cell_type": "markdown",
   "metadata": {},
   "source": [
    "## Simulate a dataset"
   ]
  },
  {
   "cell_type": "code",
   "execution_count": 2,
   "metadata": {},
   "outputs": [],
   "source": [
    "n = 300\n",
    "p = 100\n",
    "sparsity = 5\n",
    "seed = 2023\n",
    "X, Y, beta = gaussian_instance(n=n, p=p, s=sparsity, signal=2., rho=0.3, sigma=1., random_signs=True, seed=seed, scale=True, equicorrelated=False)[:3]"
   ]
  },
  {
   "cell_type": "markdown",
   "metadata": {},
   "source": [
    "## Variable selection by the lasso\n",
    "\n",
    "We use a subset of 80\\% data for the lasso."
   ]
  },
  {
   "cell_type": "code",
   "execution_count": 3,
   "metadata": {},
   "outputs": [
    {
     "name": "stdout",
     "output_type": "stream",
     "text": [
      "Selected 8 variables\n"
     ]
    }
   ],
   "source": [
    "n1 = int(n * 0.8)\n",
    "carving = linear_carving(X, Y, n1)  # create a class for carving, n1 is the number of samples for the lasso\n",
    "carving.fit('theory') # lasso regularization parameter: 'theory' or 'cv_min'\n",
    "d = carving.d\n",
    "print(\"Selected\", d, \"variables\")\n",
    "carving.prepare_inference()  # prepare for inference"
   ]
  },
  {
   "cell_type": "markdown",
   "metadata": {},
   "source": [
    "## Inference for the selected target\n",
    "\n",
    "Inference target is\n",
    "$$\n",
    "(X_M^\\top X_M)^{-1}X_M^\\top \\beta\n",
    "$$"
   ]
  },
  {
   "cell_type": "markdown",
   "metadata": {},
   "source": [
    "### CDF-based inference"
   ]
  },
  {
   "cell_type": "code",
   "execution_count": 4,
   "metadata": {},
   "outputs": [
    {
     "data": {
      "text/html": [
       "<div>\n",
       "<style scoped>\n",
       "    .dataframe tbody tr th:only-of-type {\n",
       "        vertical-align: middle;\n",
       "    }\n",
       "\n",
       "    .dataframe tbody tr th {\n",
       "        vertical-align: top;\n",
       "    }\n",
       "\n",
       "    .dataframe thead th {\n",
       "        text-align: right;\n",
       "    }\n",
       "</style>\n",
       "<table border=\"1\" class=\"dataframe\">\n",
       "  <thead>\n",
       "    <tr style=\"text-align: right;\">\n",
       "      <th></th>\n",
       "      <th>lower_confidence</th>\n",
       "      <th>upper_confidence</th>\n",
       "      <th>pvalue</th>\n",
       "    </tr>\n",
       "  </thead>\n",
       "  <tbody>\n",
       "    <tr>\n",
       "      <th>0</th>\n",
       "      <td>-2.658346</td>\n",
       "      <td>4.639177</td>\n",
       "      <td>0.651295</td>\n",
       "    </tr>\n",
       "    <tr>\n",
       "      <th>1</th>\n",
       "      <td>-3.503131</td>\n",
       "      <td>1.216837</td>\n",
       "      <td>0.229666</td>\n",
       "    </tr>\n",
       "    <tr>\n",
       "      <th>2</th>\n",
       "      <td>-3.483719</td>\n",
       "      <td>3.220927</td>\n",
       "      <td>0.929288</td>\n",
       "    </tr>\n",
       "    <tr>\n",
       "      <th>3</th>\n",
       "      <td>-1.760332</td>\n",
       "      <td>5.883765</td>\n",
       "      <td>0.314952</td>\n",
       "    </tr>\n",
       "    <tr>\n",
       "      <th>4</th>\n",
       "      <td>-4.181609</td>\n",
       "      <td>2.577129</td>\n",
       "      <td>0.569059</td>\n",
       "    </tr>\n",
       "    <tr>\n",
       "      <th>5</th>\n",
       "      <td>-3.639189</td>\n",
       "      <td>3.199544</td>\n",
       "      <td>0.792631</td>\n",
       "    </tr>\n",
       "    <tr>\n",
       "      <th>6</th>\n",
       "      <td>-5.384930</td>\n",
       "      <td>0.043893</td>\n",
       "      <td>0.053153</td>\n",
       "    </tr>\n",
       "    <tr>\n",
       "      <th>7</th>\n",
       "      <td>-6.390008</td>\n",
       "      <td>1.304524</td>\n",
       "      <td>0.207138</td>\n",
       "    </tr>\n",
       "  </tbody>\n",
       "</table>\n",
       "</div>"
      ],
      "text/plain": [
       "   lower_confidence  upper_confidence    pvalue\n",
       "0         -2.658346          4.639177  0.651295\n",
       "1         -3.503131          1.216837  0.229666\n",
       "2         -3.483719          3.220927  0.929288\n",
       "3         -1.760332          5.883765  0.314952\n",
       "4         -4.181609          2.577129  0.569059\n",
       "5         -3.639189          3.199544  0.792631\n",
       "6         -5.384930          0.043893  0.053153\n",
       "7         -6.390008          1.304524  0.207138"
      ]
     },
     "execution_count": 4,
     "metadata": {},
     "output_type": "execute_result"
    }
   ],
   "source": [
    "infer_result = carving.sampling_inference(sig_level=0.05)\n",
    "infer_result"
   ]
  },
  {
   "cell_type": "markdown",
   "metadata": {},
   "source": [
    "### Selective MLE"
   ]
  },
  {
   "cell_type": "code",
   "execution_count": 5,
   "metadata": {},
   "outputs": [
    {
     "data": {
      "text/html": [
       "<div>\n",
       "<style scoped>\n",
       "    .dataframe tbody tr th:only-of-type {\n",
       "        vertical-align: middle;\n",
       "    }\n",
       "\n",
       "    .dataframe tbody tr th {\n",
       "        vertical-align: top;\n",
       "    }\n",
       "\n",
       "    .dataframe thead th {\n",
       "        text-align: right;\n",
       "    }\n",
       "</style>\n",
       "<table border=\"1\" class=\"dataframe\">\n",
       "  <thead>\n",
       "    <tr style=\"text-align: right;\">\n",
       "      <th></th>\n",
       "      <th>MLE</th>\n",
       "      <th>lower_confidence</th>\n",
       "      <th>upper_confidence</th>\n",
       "      <th>pvalues</th>\n",
       "    </tr>\n",
       "  </thead>\n",
       "  <tbody>\n",
       "    <tr>\n",
       "      <th>0</th>\n",
       "      <td>-1.558771</td>\n",
       "      <td>-4.337676</td>\n",
       "      <td>1.220134</td>\n",
       "      <td>0.271593</td>\n",
       "    </tr>\n",
       "    <tr>\n",
       "      <th>1</th>\n",
       "      <td>-2.690048</td>\n",
       "      <td>-4.967464</td>\n",
       "      <td>-0.412632</td>\n",
       "      <td>0.020609</td>\n",
       "    </tr>\n",
       "    <tr>\n",
       "      <th>2</th>\n",
       "      <td>1.461979</td>\n",
       "      <td>-1.279769</td>\n",
       "      <td>4.203726</td>\n",
       "      <td>0.295972</td>\n",
       "    </tr>\n",
       "    <tr>\n",
       "      <th>3</th>\n",
       "      <td>-1.203979</td>\n",
       "      <td>-4.211109</td>\n",
       "      <td>1.803150</td>\n",
       "      <td>0.432617</td>\n",
       "    </tr>\n",
       "    <tr>\n",
       "      <th>4</th>\n",
       "      <td>-1.719815</td>\n",
       "      <td>-4.354854</td>\n",
       "      <td>0.915224</td>\n",
       "      <td>0.200822</td>\n",
       "    </tr>\n",
       "    <tr>\n",
       "      <th>5</th>\n",
       "      <td>-1.574532</td>\n",
       "      <td>-4.323433</td>\n",
       "      <td>1.174368</td>\n",
       "      <td>0.261590</td>\n",
       "    </tr>\n",
       "    <tr>\n",
       "      <th>6</th>\n",
       "      <td>-2.301545</td>\n",
       "      <td>-4.678369</td>\n",
       "      <td>0.075280</td>\n",
       "      <td>0.057711</td>\n",
       "    </tr>\n",
       "    <tr>\n",
       "      <th>7</th>\n",
       "      <td>0.879544</td>\n",
       "      <td>-2.159609</td>\n",
       "      <td>3.918697</td>\n",
       "      <td>0.570563</td>\n",
       "    </tr>\n",
       "  </tbody>\n",
       "</table>\n",
       "</div>"
      ],
      "text/plain": [
       "        MLE  lower_confidence  upper_confidence   pvalues\n",
       "0 -1.558771         -4.337676          1.220134  0.271593\n",
       "1 -2.690048         -4.967464         -0.412632  0.020609\n",
       "2  1.461979         -1.279769          4.203726  0.295972\n",
       "3 -1.203979         -4.211109          1.803150  0.432617\n",
       "4 -1.719815         -4.354854          0.915224  0.200822\n",
       "5 -1.574532         -4.323433          1.174368  0.261590\n",
       "6 -2.301545         -4.678369          0.075280  0.057711\n",
       "7  0.879544         -2.159609          3.918697  0.570563"
      ]
     },
     "execution_count": 5,
     "metadata": {},
     "output_type": "execute_result"
    }
   ],
   "source": [
    "infer_mle = carving.mle_sov(sig_level=0.05)\n",
    "infer_mle"
   ]
  },
  {
   "cell_type": "code",
   "execution_count": null,
   "metadata": {},
   "outputs": [],
   "source": []
  }
 ],
 "metadata": {
  "kernelspec": {
   "display_name": "qmc",
   "language": "python",
   "name": "python3"
  },
  "language_info": {
   "codemirror_mode": {
    "name": "ipython",
    "version": 3
   },
   "file_extension": ".py",
   "mimetype": "text/x-python",
   "name": "python",
   "nbconvert_exporter": "python",
   "pygments_lexer": "ipython3",
   "version": "3.10.4"
  },
  "orig_nbformat": 4
 },
 "nbformat": 4,
 "nbformat_minor": 2
}
